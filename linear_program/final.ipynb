{
 "cells": [
  {
   "cell_type": "markdown",
   "id": "3beb133a",
   "metadata": {},
   "source": [
    "# 선형 회귀 주가 예측"
   ]
  },
  {
   "cell_type": "code",
   "execution_count": null,
   "id": "fcf4312c",
   "metadata": {},
   "outputs": [],
   "source": [
    "!pip uninstall matplotlib\n",
    "!pip install matplotlib"
   ]
  },
  {
   "cell_type": "code",
   "execution_count": null,
   "id": "5b95db43",
   "metadata": {},
   "outputs": [],
   "source": [
    "from matplotlib import pyplot as pltz\n",
    "import os\n",
    "from sklearn.linear_model import LinearRegression\n",
    "import pandas as pd\n",
    "import numpy as np\n",
    "import matplotlib.pyplot as plt\n",
    "import math"
   ]
  },
  {
   "cell_type": "code",
   "execution_count": null,
   "id": "6312d0fe",
   "metadata": {},
   "outputs": [],
   "source": [
    "companys = [\"GS\",\"HANWHA\",\"HYUNDAI\",\"KIA\",\"LG\",\"NCSOFT\",\"NEXON\",\"POSCO\",\"SAMSUNG\",\"SK\"]  ##\n",
    "data_name = []\n",
    "for i in companys:\n",
    "    a = (i + \"_data.csv\")\n",
    "    data_name.append(a)\n",
    "print(data_name)"
   ]
  },
  {
   "cell_type": "code",
   "execution_count": null,
   "id": "30423a87",
   "metadata": {
    "scrolled": false
   },
   "outputs": [],
   "source": [
    "final_data = []\n",
    "\n",
    "for i in data_name:\n",
    "    origin = pd.read_csv(i, encoding='cp949')\n",
    "    df = origin.sort_values(by=['date'])\n",
    "    X = pd.DataFrame(list(range(len(df[\"date\"].values.tolist()))))\n",
    "    y = df[\"price\"]\n",
    "    plt.plot(X, y)\n",
    "    line_fitter = LinearRegression()\n",
    "    line_fitter = line_fitter.fit(X.values.reshape(-1,1), y)\n",
    "    plt.plot(X, y)\n",
    "    plt.plot(X,line_fitter.predict(X.values.reshape(-1,1)))\n",
    "    plt.show()\n",
    "    print(\"기울기:\",line_fitter.coef_,\" ^^^^^^  회사 이름:\",i[:-9])\n",
    "    z = line_fitter.coef_\n",
    "    final_data.append((z[0],i))\n",
    "final_data.sort(key = lambda x : x[0])"
   ]
  },
  {
   "cell_type": "code",
   "execution_count": null,
   "id": "8981e922",
   "metadata": {},
   "outputs": [],
   "source": [
    "print(\"가장 높은 기울기를 가진 회사:\",final_data[-1][1][:-9])\n",
    "print(\"두번째로 높은 기울기를 가진 회사:\",final_data[-2][1][:-9])\n",
    "print(\"세번째로 높은 기울기를 가진 회사:\",final_data[-3][1][:-9])\n",
    "print(\"가장 낮은 기울기를 가진 회사:\",final_data[0][1][:-9])"
   ]
  },
  {
   "cell_type": "code",
   "execution_count": null,
   "id": "fadfdca4",
   "metadata": {},
   "outputs": [],
   "source": [
    "PRED_COMPANY = 'POSCO' #GS,HANWHA,HYUNDAI,KIA,LG,NCSOFT,NEXON,POSCO,SAMSUNG,SK\n",
    "COMPANY_PATH = COMPANY + \"_data.csv\""
   ]
  },
  {
   "cell_type": "code",
   "execution_count": null,
   "id": "f090dd4e",
   "metadata": {},
   "outputs": [],
   "source": [
    "origin = pd.read_csv(COMPANY_PATH, encoding='cp949')\n",
    "df = origin.sort_values(by=['date'])"
   ]
  },
  {
   "cell_type": "code",
   "execution_count": null,
   "id": "696bed8a",
   "metadata": {},
   "outputs": [],
   "source": [
    "X = pd.DataFrame(list(range(len(df[\"date\"].values.tolist()))))\n",
    "y = df[\"price\"]"
   ]
  },
  {
   "cell_type": "code",
   "execution_count": null,
   "id": "7f58a6fe",
   "metadata": {},
   "outputs": [],
   "source": [
    "line_fitter = LinearRegression()\n",
    "line_fitter = line_fitter.fit(X.values.reshape(-1,1), y)"
   ]
  },
  {
   "cell_type": "code",
   "execution_count": null,
   "id": "f92c2629",
   "metadata": {},
   "outputs": [],
   "source": [
    "def add_date1(b):\n",
    "    global pred_num\n",
    "    if b == 2:\n",
    "        pred_num = pred_num + 31\n",
    "    elif b == 3:\n",
    "        pred_num = pred_num + 59\n",
    "    elif b == 4:\n",
    "        pred_num = pred_num + 90\n",
    "    elif b == 5:\n",
    "        pred_num = pred_num + 120\n",
    "    elif b == 6:\n",
    "        pred_num = pred_num + 151\n",
    "    elif b == 7:\n",
    "        pred_num = pred_num + 181\n",
    "    elif b == 8:\n",
    "        pred_num = pred_num + 212\n",
    "    elif b == 9:\n",
    "        pred_num = pred_num + 243\n",
    "    elif b == 10:\n",
    "        pred_num = pred_num + 273\n",
    "    elif b == 11:\n",
    "        pred_num = pred_num + 304\n",
    "    elif b == 12:\n",
    "        pred_num = pred_num + 334\n",
    "        \n",
    "def add_date2(a):\n",
    "    global pred_num\n",
    "    if a > 2023:\n",
    "        pred_num = pred_num + (a - 2023) * 365    \n",
    "        \n",
    "def check_date(a,b):\n",
    "    comment = \"존재하지 않는 날짜\"\n",
    "    if a == 1 or a == 3 or a == 7 or a == 8 or a == 10 or a == 12:\n",
    "        if b > 31:\n",
    "            print(comment)\n",
    "            return False\n",
    "        else:\n",
    "            return True\n",
    "    elif a == 4 or a == 6 or a == 9 or a == 11:\n",
    "        if b > 30:\n",
    "            print(comment)\n",
    "            return False\n",
    "        else:\n",
    "            return True\n",
    "    elif a == 5:\n",
    "        if b > 31:\n",
    "            print(comment)\n",
    "            return False\n",
    "        else:\n",
    "            return True\n",
    "    elif a == 2:\n",
    "        if b > 28:\n",
    "            print(comment)\n",
    "            return False\n",
    "        else:\n",
    "            return True\n",
    "        \n",
    "pred_date = \"2021-07-01\"\n",
    "pred_num = 869\n",
    "pred = list(map(int,pred_date.split(\"-\")))\n",
    "pred_num = pred_num + pred[2]\n",
    "add_date1(pred[1])\n",
    "add_date2(pred[0])\n",
    "if check_date(pred[1],pred[2]):\n",
    "    print(PRED_COMPANY,\"의\",pred_date,\"예상 값:\",line_fitter.predict([[pred_num]]),\"원\")"
   ]
  }
 ],
 "metadata": {
  "kernelspec": {
   "display_name": "Python 3 (ipykernel)",
   "language": "python",
   "name": "python3"
  },
  "language_info": {
   "codemirror_mode": {
    "name": "ipython",
    "version": 3
   },
   "file_extension": ".py",
   "mimetype": "text/x-python",
   "name": "python",
   "nbconvert_exporter": "python",
   "pygments_lexer": "ipython3",
   "version": "3.10.9"
  }
 },
 "nbformat": 4,
 "nbformat_minor": 5
}
